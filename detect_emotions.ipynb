{
 "cells": [
  {
   "cell_type": "code",
   "execution_count": 2,
   "metadata": {},
   "outputs": [],
   "source": [
    "import torch\n",
    "from torch import nn\n",
    "from torch.utils.data import DataLoader\n",
    "from torchvision import datasets, transforms\n",
    "import numpy as np\n",
    "from PIL import Image\n",
    "from pathlib import Path\n",
    "import matplotlib.pyplot as plt"
   ]
  },
  {
   "attachments": {},
   "cell_type": "markdown",
   "metadata": {},
   "source": [
    "#### Set up device agnostic code"
   ]
  },
  {
   "cell_type": "code",
   "execution_count": 3,
   "metadata": {},
   "outputs": [],
   "source": [
    "device = \"cuda\" if torch.cuda.is_available() else \"cpu\""
   ]
  },
  {
   "attachments": {},
   "cell_type": "markdown",
   "metadata": {},
   "source": [
    "#### Retrive the dataset. Apply transformations and make dataloaders"
   ]
  },
  {
   "cell_type": "code",
   "execution_count": 17,
   "metadata": {},
   "outputs": [],
   "source": [
    "data_path = Path(\"data\")\n",
    "train_dir = data_path / \"train\"\n",
    "test_dir = data_path / \"test\""
   ]
  },
  {
   "cell_type": "code",
   "execution_count": 18,
   "metadata": {},
   "outputs": [],
   "source": [
    "IMAGE_SIZE = 180\n",
    "train_transform = transforms.Compose([\n",
    "    transforms.RandomHorizontalFlip(p=0.5),\n",
    "    transforms.RandomCrop(40, pad_if_needed=True),\n",
    "    transforms.Resize((IMAGE_SIZE, IMAGE_SIZE)),\n",
    "    transforms.ToTensor(),\n",
    "])\n",
    "\n",
    "test_transform = transforms.Compose([\n",
    "    transforms.Resize((IMAGE_SIZE, IMAGE_SIZE)),\n",
    "    transforms.ToTensor(),\n",
    "])"
   ]
  },
  {
   "cell_type": "code",
   "execution_count": 19,
   "metadata": {},
   "outputs": [],
   "source": [
    "train_data = datasets.ImageFolder(root=train_dir,\n",
    "                                  transform=train_transform,\n",
    "                                  target_transform=None)\n",
    "\n",
    "test_data = datasets.ImageFolder(root=test_dir,\n",
    "                                 transform=test_transform)"
   ]
  },
  {
   "cell_type": "code",
   "execution_count": 20,
   "metadata": {},
   "outputs": [
    {
     "data": {
      "text/plain": [
       "(['angry', 'disgust', 'fear', 'happy', 'neutral', 'sad', 'surprise'],\n",
       " {'angry': 0,\n",
       "  'disgust': 1,\n",
       "  'fear': 2,\n",
       "  'happy': 3,\n",
       "  'neutral': 4,\n",
       "  'sad': 5,\n",
       "  'surprise': 6})"
      ]
     },
     "execution_count": 20,
     "metadata": {},
     "output_type": "execute_result"
    }
   ],
   "source": [
    "class_names = train_data.classes\n",
    "class_dict = train_data.class_to_idx\n",
    "class_names, class_dict"
   ]
  },
  {
   "cell_type": "code",
   "execution_count": 21,
   "metadata": {},
   "outputs": [
    {
     "data": {
      "text/plain": [
       "(28709, 7178)"
      ]
     },
     "execution_count": 21,
     "metadata": {},
     "output_type": "execute_result"
    }
   ],
   "source": [
    "len(train_data), len(test_data)"
   ]
  },
  {
   "cell_type": "code",
   "execution_count": 22,
   "metadata": {},
   "outputs": [],
   "source": [
    "BATCH_SIZE = 48\n",
    "train_dataloader = DataLoader(dataset=train_data,\n",
    "                              batch_size=BATCH_SIZE,\n",
    "                              shuffle=True,\n",
    "                              num_workers=6)\n",
    "\n",
    "test_dataloader = DataLoader(dataset=test_data,\n",
    "                             batch_size=BATCH_SIZE,\n",
    "                             shuffle=False,\n",
    "                             num_workers=6)"
   ]
  },
  {
   "attachments": {},
   "cell_type": "markdown",
   "metadata": {},
   "source": [
    "#### Initialize the model with pretrained weights and change the final output shape to match the number of emotions."
   ]
  },
  {
   "cell_type": "code",
   "execution_count": 23,
   "metadata": {},
   "outputs": [
    {
     "name": "stderr",
     "output_type": "stream",
     "text": [
      "/home/toconn23/.local/lib/python3.11/site-packages/torchvision/models/_utils.py:223: UserWarning: Arguments other than a weight enum or `None` for 'weights' are deprecated since 0.13 and may be removed in the future. The current behavior is equivalent to passing `weights=EfficientNet_B0_Weights.IMAGENET1K_V1`. You can also use `weights=EfficientNet_B0_Weights.DEFAULT` to get the most up-to-date weights.\n",
      "  warnings.warn(msg)\n"
     ]
    }
   ],
   "source": [
    "import torchvision\n",
    "model = torchvision.models.efficientnet_b0(weights=torchvision.models.EfficientNet_B0_Weights)"
   ]
  },
  {
   "cell_type": "code",
   "execution_count": 24,
   "metadata": {},
   "outputs": [
    {
     "data": {
      "text/plain": [
       "============================================================================================================================================\n",
       "Layer (type (var_name))                                      Input Shape          Output Shape         Param #              Trainable\n",
       "============================================================================================================================================\n",
       "EfficientNet (EfficientNet)                                  [48, 3, 180, 180]    [48, 1000]           --                   True\n",
       "├─Sequential (features)                                      [48, 3, 180, 180]    [48, 1280, 6, 6]     --                   True\n",
       "│    └─Conv2dNormActivation (0)                              [48, 3, 180, 180]    [48, 32, 90, 90]     --                   True\n",
       "│    │    └─Conv2d (0)                                       [48, 3, 180, 180]    [48, 32, 90, 90]     864                  True\n",
       "│    │    └─BatchNorm2d (1)                                  [48, 32, 90, 90]     [48, 32, 90, 90]     64                   True\n",
       "│    │    └─SiLU (2)                                         [48, 32, 90, 90]     [48, 32, 90, 90]     --                   --\n",
       "│    └─Sequential (1)                                        [48, 32, 90, 90]     [48, 16, 90, 90]     --                   True\n",
       "│    │    └─MBConv (0)                                       [48, 32, 90, 90]     [48, 16, 90, 90]     1,448                True\n",
       "│    └─Sequential (2)                                        [48, 16, 90, 90]     [48, 24, 45, 45]     --                   True\n",
       "│    │    └─MBConv (0)                                       [48, 16, 90, 90]     [48, 24, 45, 45]     6,004                True\n",
       "│    │    └─MBConv (1)                                       [48, 24, 45, 45]     [48, 24, 45, 45]     10,710               True\n",
       "│    └─Sequential (3)                                        [48, 24, 45, 45]     [48, 40, 23, 23]     --                   True\n",
       "│    │    └─MBConv (0)                                       [48, 24, 45, 45]     [48, 40, 23, 23]     15,350               True\n",
       "│    │    └─MBConv (1)                                       [48, 40, 23, 23]     [48, 40, 23, 23]     31,290               True\n",
       "│    └─Sequential (4)                                        [48, 40, 23, 23]     [48, 80, 12, 12]     --                   True\n",
       "│    │    └─MBConv (0)                                       [48, 40, 23, 23]     [48, 80, 12, 12]     37,130               True\n",
       "│    │    └─MBConv (1)                                       [48, 80, 12, 12]     [48, 80, 12, 12]     102,900              True\n",
       "│    │    └─MBConv (2)                                       [48, 80, 12, 12]     [48, 80, 12, 12]     102,900              True\n",
       "│    └─Sequential (5)                                        [48, 80, 12, 12]     [48, 112, 12, 12]    --                   True\n",
       "│    │    └─MBConv (0)                                       [48, 80, 12, 12]     [48, 112, 12, 12]    126,004              True\n",
       "│    │    └─MBConv (1)                                       [48, 112, 12, 12]    [48, 112, 12, 12]    208,572              True\n",
       "│    │    └─MBConv (2)                                       [48, 112, 12, 12]    [48, 112, 12, 12]    208,572              True\n",
       "│    └─Sequential (6)                                        [48, 112, 12, 12]    [48, 192, 6, 6]      --                   True\n",
       "│    │    └─MBConv (0)                                       [48, 112, 12, 12]    [48, 192, 6, 6]      262,492              True\n",
       "│    │    └─MBConv (1)                                       [48, 192, 6, 6]      [48, 192, 6, 6]      587,952              True\n",
       "│    │    └─MBConv (2)                                       [48, 192, 6, 6]      [48, 192, 6, 6]      587,952              True\n",
       "│    │    └─MBConv (3)                                       [48, 192, 6, 6]      [48, 192, 6, 6]      587,952              True\n",
       "│    └─Sequential (7)                                        [48, 192, 6, 6]      [48, 320, 6, 6]      --                   True\n",
       "│    │    └─MBConv (0)                                       [48, 192, 6, 6]      [48, 320, 6, 6]      717,232              True\n",
       "│    └─Conv2dNormActivation (8)                              [48, 320, 6, 6]      [48, 1280, 6, 6]     --                   True\n",
       "│    │    └─Conv2d (0)                                       [48, 320, 6, 6]      [48, 1280, 6, 6]     409,600              True\n",
       "│    │    └─BatchNorm2d (1)                                  [48, 1280, 6, 6]     [48, 1280, 6, 6]     2,560                True\n",
       "│    │    └─SiLU (2)                                         [48, 1280, 6, 6]     [48, 1280, 6, 6]     --                   --\n",
       "├─AdaptiveAvgPool2d (avgpool)                                [48, 1280, 6, 6]     [48, 1280, 1, 1]     --                   --\n",
       "├─Sequential (classifier)                                    [48, 1280]           [48, 1000]           --                   True\n",
       "│    └─Dropout (0)                                           [48, 1280]           [48, 1280]           --                   --\n",
       "│    └─Linear (1)                                            [48, 1280]           [48, 1000]           1,281,000            True\n",
       "============================================================================================================================================\n",
       "Total params: 5,288,548\n",
       "Trainable params: 5,288,548\n",
       "Non-trainable params: 0\n",
       "Total mult-adds (Units.GIGABYTES): 13.16\n",
       "============================================================================================================================================\n",
       "Input size (MB): 18.66\n",
       "Forward/backward pass size (MB): 3497.34\n",
       "Params size (MB): 21.15\n",
       "Estimated Total Size (MB): 3537.16\n",
       "============================================================================================================================================"
      ]
     },
     "execution_count": 24,
     "metadata": {},
     "output_type": "execute_result"
    }
   ],
   "source": [
    "from torchinfo import summary\n",
    "summary(model=model,\n",
    "        input_size=(BATCH_SIZE, 3, IMAGE_SIZE, IMAGE_SIZE),\n",
    "        col_names=[\"input_size\", \"output_size\", \"num_params\", \"trainable\"],\n",
    "        col_width=20,\n",
    "        row_settings=[\"var_names\"]\n",
    ")"
   ]
  },
  {
   "attachments": {},
   "cell_type": "markdown",
   "metadata": {},
   "source": [
    "#### Change the output of the last layer to the amount of classes"
   ]
  },
  {
   "cell_type": "code",
   "execution_count": 25,
   "metadata": {},
   "outputs": [],
   "source": [
    "torch.manual_seed(42)\n",
    "torch.cuda.manual_seed(42)\n",
    "\n",
    "output_shape = len(class_names)\n",
    "model.classifier = torch.nn.Sequential(nn.Dropout(p=0.70, inplace=False),\n",
    "                                       nn.Linear(in_features=1280,\n",
    "                                                       out_features=output_shape,\n",
    "                                                       bias=True)).to(device)"
   ]
  },
  {
   "cell_type": "code",
   "execution_count": 26,
   "metadata": {},
   "outputs": [
    {
     "data": {
      "text/plain": [
       "============================================================================================================================================\n",
       "Layer (type (var_name))                                      Input Shape          Output Shape         Param #              Trainable\n",
       "============================================================================================================================================\n",
       "EfficientNet (EfficientNet)                                  [48, 3, 180, 180]    [48, 7]              --                   True\n",
       "├─Sequential (features)                                      [48, 3, 180, 180]    [48, 1280, 6, 6]     --                   True\n",
       "│    └─Conv2dNormActivation (0)                              [48, 3, 180, 180]    [48, 32, 90, 90]     --                   True\n",
       "│    │    └─Conv2d (0)                                       [48, 3, 180, 180]    [48, 32, 90, 90]     864                  True\n",
       "│    │    └─BatchNorm2d (1)                                  [48, 32, 90, 90]     [48, 32, 90, 90]     64                   True\n",
       "│    │    └─SiLU (2)                                         [48, 32, 90, 90]     [48, 32, 90, 90]     --                   --\n",
       "│    └─Sequential (1)                                        [48, 32, 90, 90]     [48, 16, 90, 90]     --                   True\n",
       "│    │    └─MBConv (0)                                       [48, 32, 90, 90]     [48, 16, 90, 90]     1,448                True\n",
       "│    └─Sequential (2)                                        [48, 16, 90, 90]     [48, 24, 45, 45]     --                   True\n",
       "│    │    └─MBConv (0)                                       [48, 16, 90, 90]     [48, 24, 45, 45]     6,004                True\n",
       "│    │    └─MBConv (1)                                       [48, 24, 45, 45]     [48, 24, 45, 45]     10,710               True\n",
       "│    └─Sequential (3)                                        [48, 24, 45, 45]     [48, 40, 23, 23]     --                   True\n",
       "│    │    └─MBConv (0)                                       [48, 24, 45, 45]     [48, 40, 23, 23]     15,350               True\n",
       "│    │    └─MBConv (1)                                       [48, 40, 23, 23]     [48, 40, 23, 23]     31,290               True\n",
       "│    └─Sequential (4)                                        [48, 40, 23, 23]     [48, 80, 12, 12]     --                   True\n",
       "│    │    └─MBConv (0)                                       [48, 40, 23, 23]     [48, 80, 12, 12]     37,130               True\n",
       "│    │    └─MBConv (1)                                       [48, 80, 12, 12]     [48, 80, 12, 12]     102,900              True\n",
       "│    │    └─MBConv (2)                                       [48, 80, 12, 12]     [48, 80, 12, 12]     102,900              True\n",
       "│    └─Sequential (5)                                        [48, 80, 12, 12]     [48, 112, 12, 12]    --                   True\n",
       "│    │    └─MBConv (0)                                       [48, 80, 12, 12]     [48, 112, 12, 12]    126,004              True\n",
       "│    │    └─MBConv (1)                                       [48, 112, 12, 12]    [48, 112, 12, 12]    208,572              True\n",
       "│    │    └─MBConv (2)                                       [48, 112, 12, 12]    [48, 112, 12, 12]    208,572              True\n",
       "│    └─Sequential (6)                                        [48, 112, 12, 12]    [48, 192, 6, 6]      --                   True\n",
       "│    │    └─MBConv (0)                                       [48, 112, 12, 12]    [48, 192, 6, 6]      262,492              True\n",
       "│    │    └─MBConv (1)                                       [48, 192, 6, 6]      [48, 192, 6, 6]      587,952              True\n",
       "│    │    └─MBConv (2)                                       [48, 192, 6, 6]      [48, 192, 6, 6]      587,952              True\n",
       "│    │    └─MBConv (3)                                       [48, 192, 6, 6]      [48, 192, 6, 6]      587,952              True\n",
       "│    └─Sequential (7)                                        [48, 192, 6, 6]      [48, 320, 6, 6]      --                   True\n",
       "│    │    └─MBConv (0)                                       [48, 192, 6, 6]      [48, 320, 6, 6]      717,232              True\n",
       "│    └─Conv2dNormActivation (8)                              [48, 320, 6, 6]      [48, 1280, 6, 6]     --                   True\n",
       "│    │    └─Conv2d (0)                                       [48, 320, 6, 6]      [48, 1280, 6, 6]     409,600              True\n",
       "│    │    └─BatchNorm2d (1)                                  [48, 1280, 6, 6]     [48, 1280, 6, 6]     2,560                True\n",
       "│    │    └─SiLU (2)                                         [48, 1280, 6, 6]     [48, 1280, 6, 6]     --                   --\n",
       "├─AdaptiveAvgPool2d (avgpool)                                [48, 1280, 6, 6]     [48, 1280, 1, 1]     --                   --\n",
       "├─Sequential (classifier)                                    [48, 1280]           [48, 7]              --                   True\n",
       "│    └─Dropout (0)                                           [48, 1280]           [48, 1280]           --                   --\n",
       "│    └─Linear (1)                                            [48, 1280]           [48, 7]              8,967                True\n",
       "============================================================================================================================================\n",
       "Total params: 4,016,515\n",
       "Trainable params: 4,016,515\n",
       "Non-trainable params: 0\n",
       "Total mult-adds (Units.GIGABYTES): 13.10\n",
       "============================================================================================================================================\n",
       "Input size (MB): 18.66\n",
       "Forward/backward pass size (MB): 3496.96\n",
       "Params size (MB): 16.07\n",
       "Estimated Total Size (MB): 3531.69\n",
       "============================================================================================================================================"
      ]
     },
     "execution_count": 26,
     "metadata": {},
     "output_type": "execute_result"
    }
   ],
   "source": [
    "summary(model=model,\n",
    "        input_size=(BATCH_SIZE, 3, IMAGE_SIZE, IMAGE_SIZE),\n",
    "        col_names=[\"input_size\", \"output_size\", \"num_params\", \"trainable\"],\n",
    "        col_width=20,\n",
    "        row_settings=[\"var_names\"]\n",
    ")"
   ]
  },
  {
   "attachments": {},
   "cell_type": "markdown",
   "metadata": {},
   "source": [
    "#### Define loss function and optimizer"
   ]
  },
  {
   "cell_type": "code",
   "execution_count": 27,
   "metadata": {},
   "outputs": [],
   "source": [
    "# Define loss and optimizer\n",
    "loss_fn = nn.CrossEntropyLoss()\n",
    "optimizer = torch.optim.Adam(model.parameters(), lr=0.0001)"
   ]
  },
  {
   "attachments": {},
   "cell_type": "markdown",
   "metadata": {},
   "source": [
    "#### Train the model"
   ]
  },
  {
   "cell_type": "code",
   "execution_count": 28,
   "metadata": {},
   "outputs": [
    {
     "name": "stderr",
     "output_type": "stream",
     "text": [
      " 20%|██        | 1/5 [01:17<05:09, 77.47s/it]"
     ]
    },
    {
     "name": "stdout",
     "output_type": "stream",
     "text": [
      "Epoch: 1 | train_loss: 1.2403 | train_acc: 0.5325 | test_loss: 1.0662 | test_acc: 0.5978\n"
     ]
    },
    {
     "name": "stderr",
     "output_type": "stream",
     "text": [
      " 40%|████      | 2/5 [02:32<03:48, 76.24s/it]"
     ]
    },
    {
     "name": "stdout",
     "output_type": "stream",
     "text": [
      "Epoch: 2 | train_loss: 1.0132 | train_acc: 0.6230 | test_loss: 0.9840 | test_acc: 0.6358\n"
     ]
    },
    {
     "name": "stderr",
     "output_type": "stream",
     "text": [
      " 60%|██████    | 3/5 [03:51<02:34, 77.18s/it]"
     ]
    },
    {
     "name": "stdout",
     "output_type": "stream",
     "text": [
      "Epoch: 3 | train_loss: 0.9205 | train_acc: 0.6566 | test_loss: 1.0104 | test_acc: 0.6339\n"
     ]
    },
    {
     "name": "stderr",
     "output_type": "stream",
     "text": [
      " 80%|████████  | 4/5 [05:08<01:17, 77.39s/it]"
     ]
    },
    {
     "name": "stdout",
     "output_type": "stream",
     "text": [
      "Epoch: 4 | train_loss: 0.8624 | train_acc: 0.6794 | test_loss: 0.9830 | test_acc: 0.6447\n"
     ]
    },
    {
     "name": "stderr",
     "output_type": "stream",
     "text": [
      "100%|██████████| 5/5 [06:27<00:00, 77.54s/it]"
     ]
    },
    {
     "name": "stdout",
     "output_type": "stream",
     "text": [
      "Epoch: 5 | train_loss: 0.8053 | train_acc: 0.7012 | test_loss: 0.9874 | test_acc: 0.6540\n",
      "Total training time: 387.719 seconds\n"
     ]
    },
    {
     "name": "stderr",
     "output_type": "stream",
     "text": [
      "\n"
     ]
    }
   ],
   "source": [
    "import train_lib\n",
    "# Set the random seeds\n",
    "torch.manual_seed(42)\n",
    "torch.cuda.manual_seed(42)\n",
    "# Start the timer\n",
    "from timeit import default_timer as timer \n",
    "start_time = timer()\n",
    "\n",
    "# Setup training and save the results\n",
    "results = train_lib.train(model=model,\n",
    "                       train_dataloader=train_dataloader,\n",
    "                       test_dataloader=test_dataloader,\n",
    "                       optimizer=optimizer,\n",
    "                       loss_fn=loss_fn,\n",
    "                       epochs=10,\n",
    "                       device=device)\n",
    "\n",
    "# End the timer and print out how long it took\n",
    "end_time = timer()\n",
    "print(f\"Total training time: {end_time-start_time:.3f} seconds\")"
   ]
  },
  {
   "attachments": {},
   "cell_type": "markdown",
   "metadata": {},
   "source": [
    "#### Save the model"
   ]
  },
  {
   "cell_type": "code",
   "execution_count": 29,
   "metadata": {},
   "outputs": [],
   "source": [
    "from pathlib import Path\n",
    "MODEL_PATH = Path(\"models\")\n",
    "MODEL_PATH.mkdir(parents=True,\n",
    "                 exist_ok=True)\n",
    "MODEL_NAME = \"Model.pth\"\n",
    "MODEL_SAVE_PATH = MODEL_PATH / MODEL_NAME \n",
    "torch.save(obj=model,\n",
    "           f=MODEL_SAVE_PATH)\n"
   ]
  }
 ],
 "metadata": {
  "kernelspec": {
   "display_name": "Python 3",
   "language": "python",
   "name": "python3"
  },
  "language_info": {
   "codemirror_mode": {
    "name": "ipython",
    "version": 3
   },
   "file_extension": ".py",
   "mimetype": "text/x-python",
   "name": "python",
   "nbconvert_exporter": "python",
   "pygments_lexer": "ipython3",
   "version": "3.11.4"
  },
  "orig_nbformat": 4
 },
 "nbformat": 4,
 "nbformat_minor": 2
}
